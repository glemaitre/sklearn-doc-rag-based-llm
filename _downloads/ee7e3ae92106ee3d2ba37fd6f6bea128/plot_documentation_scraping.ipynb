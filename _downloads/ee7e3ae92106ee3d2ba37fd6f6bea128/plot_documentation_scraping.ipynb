{
  "cells": [
    {
      "cell_type": "markdown",
      "metadata": {},
      "source": [
        "\n# Documentation scraping strategies\n\nThis example illustrates how the different documentation scraping strategies work\nin `ragger_duck`.\n"
      ]
    },
    {
      "cell_type": "markdown",
      "metadata": {},
      "source": [
        "## API documentation scraping\nFirst, we look at the :class:`~ragger_duck.scraping.APINumPyDocExtractor` class. This\nclass is used to scrape the API documentation of scikit-learn. It leverages the\n`numpydoc` scraper and create semi-structured chunk of text.\n\nLet's show an example where we scrape the documentation of\n:class:`~sklearn.ensemble.RandomForestClassifier`. Our scrapper requires the HTML\ngenerated file to infer if this is part of the public API. To do so,s we copied the\nHTML generated file in the folder `toy_documentation/api`. We can therefore process\nthis folder.\n\n"
      ]
    },
    {
      "cell_type": "code",
      "execution_count": null,
      "metadata": {
        "collapsed": false
      },
      "outputs": [],
      "source": [
        "from pathlib import Path\n\nfrom ragger_duck.scraping import APINumPyDocExtractor\n\npath_api_doc = Path(\".\") / \"toy_documentation\" / \"api\"\nchunks = APINumPyDocExtractor().fit_transform(path_api_doc)"
      ]
    },
    {
      "cell_type": "markdown",
      "metadata": {},
      "source": [
        "The chunks are stored in a list of dictionaries.\n\n"
      ]
    },
    {
      "cell_type": "code",
      "execution_count": null,
      "metadata": {
        "collapsed": false
      },
      "outputs": [],
      "source": [
        "print(f\"Chunks is {type(chunks)}\")\nprint(f\"A chunk is {type(chunks[0])}\")"
      ]
    },
    {
      "cell_type": "markdown",
      "metadata": {},
      "source": [
        "A chunk contains 2 keys: `\"source\"` that is the HTML source page and `\"text\"` that is\nthe extracted text.\n\n"
      ]
    },
    {
      "cell_type": "code",
      "execution_count": null,
      "metadata": {
        "collapsed": false
      },
      "outputs": [],
      "source": [
        "chunks[0].keys()"
      ]
    },
    {
      "cell_type": "markdown",
      "metadata": {},
      "source": [
        "For the API documentation, we use `numpydoc` to generate meaningful chunks. For\ninstance, this is the first chunk of text.\n\n"
      ]
    },
    {
      "cell_type": "code",
      "execution_count": null,
      "metadata": {
        "collapsed": false
      },
      "outputs": [],
      "source": [
        "print(chunks[0][\"text\"])"
      ]
    },
    {
      "cell_type": "markdown",
      "metadata": {},
      "source": [
        "The first line of the chunk corresponds to the estimator or class name and its\nmodule. This information is useful to disambiguate the documentation when using an\nLLM: sometimes we can have multiple parameters name defined in different classes or\nfunctions. An LLM will tend to summarize the information coming from the different\nchunks. However, if we provide the class or function name and this information is\npresent in the user prompt, then the LLM is likely to generate a more accurate\nanswer.\n\nSince `numpydoc` offer a structured information based on the sections of the\ndocstring, we therefore use these sections and create hand-crafted chunks that we\nfind meaningful in regards to the API documentation.\n\n## User guide documentation scraping\nFirst, we look at the :class:`~ragger_duck.scraping.UserGuideExtractor` class. This\nclass is used to scrape the user guide documentation of scikit-learn. The chunking\nstrategy is really simple: we split the text into chunks of a fixed size.\nAdditionally, chunks can be overlapping. Those behaviors can be controlled by the\n`chunk_size` and `chunk_overlap` parameters.\n\n"
      ]
    },
    {
      "cell_type": "code",
      "execution_count": null,
      "metadata": {
        "collapsed": false
      },
      "outputs": [],
      "source": [
        "from ragger_duck.scraping import UserGuideDocExtractor\n\npath_user_guide = Path(\".\") / \"toy_documentation\" / \"user_guide\"\nchunks = UserGuideDocExtractor(chunk_size=500, chunk_overlap=100).fit_transform(\n    path_user_guide\n)"
      ]
    },
    {
      "cell_type": "markdown",
      "metadata": {},
      "source": [
        "We provide an example of two overlapping chunks.\n\n"
      ]
    },
    {
      "cell_type": "code",
      "execution_count": null,
      "metadata": {
        "collapsed": false
      },
      "outputs": [],
      "source": [
        "print(\"Chunk #1\\n\")\nprint(chunks[0][\"text\"])\nprint(\"\\nChunk #2\\n\")\nprint(chunks[1][\"text\"])"
      ]
    },
    {
      "cell_type": "markdown",
      "metadata": {},
      "source": [
        "The size of the chunks might varies depending of the break characters in the text.\n\n"
      ]
    },
    {
      "cell_type": "code",
      "execution_count": null,
      "metadata": {
        "collapsed": false
      },
      "outputs": [],
      "source": [
        "print(len(chunks[0][\"text\"]))\nprint(len(chunks[1][\"text\"]))"
      ]
    },
    {
      "cell_type": "markdown",
      "metadata": {},
      "source": [
        "It should be noted that we could improve this strategy by using a more sophisticated\nchunking strategy. For instance, we could detect the sections and make sure to not\ndefine chunks overlapping between independent sections. In the same manner, we could\nthink of a strategy to not split code block of the user guide since they are quite\nsmall and self-contained.\n\n## Examples documentation scraping\n\n"
      ]
    }
  ],
  "metadata": {
    "kernelspec": {
      "display_name": "Python 3",
      "language": "python",
      "name": "python3"
    },
    "language_info": {
      "codemirror_mode": {
        "name": "ipython",
        "version": 3
      },
      "file_extension": ".py",
      "mimetype": "text/x-python",
      "name": "python",
      "nbconvert_exporter": "python",
      "pygments_lexer": "ipython3",
      "version": "3.12.4"
    }
  },
  "nbformat": 4,
  "nbformat_minor": 0
}