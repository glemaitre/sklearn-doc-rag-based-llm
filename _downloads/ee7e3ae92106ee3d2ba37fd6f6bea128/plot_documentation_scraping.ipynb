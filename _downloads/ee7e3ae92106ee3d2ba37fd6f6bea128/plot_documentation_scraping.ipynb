{
  "cells": [
    {
      "cell_type": "markdown",
      "metadata": {},
      "source": [
        "\n# Documentation scraping strategies\n\nThis example illustrates how the different documentation scraping strategies work\nin `ragger_duck`.\n"
      ]
    },
    {
      "cell_type": "markdown",
      "metadata": {},
      "source": [
        "## API documentation scraping\nFirst, we look at the :class:`~ragger_duck.scraping.APINumPyDocExtractor` class. This\nclass is used to scrape the API documentation of scikit-learn. It leverages the\n`numpydoc` scraper and create semi-structured chunk of text.\n\nLet's show an example where we scrape the documentation of\n:class:`~sklearn.ensemble.RandomForestClassifier`. Our scrapper requires the HTML\ngenerated file to infer if this is part of the public API. To do so,s we copied the\nHTML generated file in the folder `toy_documentation/api`. We can therefore process\nthis folder.\n\n"
      ]
    },
    {
      "cell_type": "code",
      "execution_count": null,
      "metadata": {
        "collapsed": false
      },
      "outputs": [],
      "source": [
        "from pathlib import Path\n\nfrom ragger_duck.scraping import APINumPyDocExtractor\n\npath_api_doc = Path(\".\") / \"toy_documentation\" / \"api\"\nchunks = APINumPyDocExtractor().fit_transform(path_api_doc)"
      ]
    },
    {
      "cell_type": "code",
      "execution_count": null,
      "metadata": {
        "collapsed": false
      },
      "outputs": [],
      "source": [
        "for chunk in chunks:\n    print(f\"The source of the chunk is {chunk['source']}\\n\")\n    print(f\"{chunk['text']}\\n\")"
      ]
    },
    {
      "cell_type": "code",
      "execution_count": null,
      "metadata": {
        "collapsed": false
      },
      "outputs": [],
      "source": [
        "print(\"hello world\")"
      ]
    }
  ],
  "metadata": {
    "kernelspec": {
      "display_name": "Python 3",
      "language": "python",
      "name": "python3"
    },
    "language_info": {
      "codemirror_mode": {
        "name": "ipython",
        "version": 3
      },
      "file_extension": ".py",
      "mimetype": "text/x-python",
      "name": "python",
      "nbconvert_exporter": "python",
      "pygments_lexer": "ipython3",
      "version": "3.12.3"
    }
  },
  "nbformat": 4,
  "nbformat_minor": 0
}